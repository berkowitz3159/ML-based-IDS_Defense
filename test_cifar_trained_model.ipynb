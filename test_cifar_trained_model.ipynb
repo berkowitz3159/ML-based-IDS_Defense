{
 "cells": [
  {
   "cell_type": "markdown",
   "id": "67df2998",
   "metadata": {},
   "source": [
    "# Model Evaluation Results"
   ]
  },
  {
   "cell_type": "code",
   "execution_count": null,
   "id": "6f491b5a",
   "metadata": {},
   "outputs": [],
   "source": [
    "results = {'Test Loss': 0.047218885136490696, 'Accuracy': 0.9851425803075096, 'Precision': 0.9852267559819761, 'Recall': 0.9851425803075096, 'F1-Score': 0.9848327055315658, 'Classification Report': '              precision    recall  f1-score   support\\n\\n           0       0.99      0.99      0.99    454089\\n           1       0.97      0.31      0.47       386\\n           2       1.00      0.99      1.00     25588\\n           3       0.95      0.98      0.97      2055\\n           4       0.97      0.98      0.98     46259\\n           5       0.90      0.95      0.92      1103\\n           6       0.95      0.95      0.95      1146\\n           7       1.00      0.97      0.98      1570\\n           8       0.00      0.00      0.00         3\\n           9       0.50      0.20      0.29         5\\n          10       0.90      0.95      0.92     31712\\n          11       0.94      0.94      0.94      1242\\n          12       0.96      0.09      0.16       291\\n          13       0.00      0.00      0.00         5\\n          14       0.00      0.00      0.00       122\\n\\n    accuracy                           0.99    565576\\n   macro avg       0.74      0.62      0.64    565576\\nweighted avg       0.99      0.99      0.98    565576\\n'}"
   ]
  },
  {
   "cell_type": "code",
   "execution_count": null,
   "id": "4815f4c2",
   "metadata": {},
   "outputs": [],
   "source": [
    "print('Test Loss: {:.4f}'.format(results['Test Loss']))"
   ]
  },
  {
   "cell_type": "code",
   "execution_count": null,
   "id": "a8257a91",
   "metadata": {},
   "outputs": [],
   "source": [
    "print('Accuracy: {:.4f}'.format(results['Accuracy']))"
   ]
  },
  {
   "cell_type": "code",
   "execution_count": null,
   "id": "8aead124",
   "metadata": {},
   "outputs": [],
   "source": [
    "print('Precision: {:.4f}'.format(results['Precision']))"
   ]
  },
  {
   "cell_type": "code",
   "execution_count": null,
   "id": "78b59af9",
   "metadata": {},
   "outputs": [],
   "source": [
    "print('Recall: {:.4f}'.format(results['Recall']))"
   ]
  },
  {
   "cell_type": "code",
   "execution_count": null,
   "id": "22615a34",
   "metadata": {},
   "outputs": [],
   "source": [
    "print('F1-Score: {:.4f}'.format(results['F1-Score']))"
   ]
  },
  {
   "cell_type": "code",
   "execution_count": null,
   "id": "910ec8ce",
   "metadata": {},
   "outputs": [],
   "source": [
    "print('\\nDetailed classification report:\\n' + results['Classification Report'])"
   ]
  }
 ],
 "metadata": {},
 "nbformat": 4,
 "nbformat_minor": 5
}

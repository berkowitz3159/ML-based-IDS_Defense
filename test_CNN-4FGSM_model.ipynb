{
 "cells": [
  {
   "cell_type": "markdown",
   "id": "8f093623",
   "metadata": {},
   "source": [
    "# Model Evaluation Results"
   ]
  },
  {
   "cell_type": "markdown",
   "id": "fc1c3550",
   "metadata": {},
   "source": [
    "## Overall Performance"
   ]
  },
  {
   "cell_type": "code",
   "execution_count": null,
   "id": "1e4884a5",
   "metadata": {},
   "outputs": [],
   "source": [
    "overall_performance = {'Adversarial Test Loss': 4.676036507420776, 'Adversarial Accuracy': 0.792070384881961, 'Adversarial Precision': 0.8025324605011454, 'Adversarial Recall': 0.792070384881961, 'Adversarial F1-Score': 0.7926312883246942}\n",
    "\n",
    "print('Adversarial Test Loss: {overall_performance['Adversarial Test Loss']:.4f}')\n",
    "print('Adversarial Accuracy: {overall_performance['Adversarial Accuracy']:.4f}')\n",
    "print('Adversarial Precision: {overall_performance['Adversarial Precision']:.4f}')\n",
    "print('Adversarial Recall: {overall_performance['Adversarial Recall']:.4f}')\n",
    "print('Adversarial F1-Score: {overall_performance['Adversarial F1-Score']:.4f}')"
   ]
  },
  {
   "cell_type": "markdown",
   "id": "06e0503f",
   "metadata": {},
   "source": [
    "## Performance by Attack Type"
   ]
  },
  {
   "cell_type": "code",
   "execution_count": null,
   "id": "14213034",
   "metadata": {},
   "outputs": [],
   "source": [
    "performance_by_attack = {'Benign': {'Accuracy': 0.8965511166313211, 'Precision': 1.0, 'Recall': 0.8965511166313211, 'F1-Score': 0.9454542076606793}, 'DDoS': {'Accuracy': 0.0025906735751295338, 'Precision': 1.0, 'Recall': 0.0025906735751295338, 'F1-Score': 0.00516795865633075}, 'DoS Hulk': {'Accuracy': 0.10579177739565421, 'Precision': 1.0, 'Recall': 0.10579177739565421, 'F1-Score': 0.19134122636508216}, 'DoS GoldenEye': {'Accuracy': 0.35766423357664234, 'Precision': 1.0, 'Recall': 0.35766423357664234, 'F1-Score': 0.5268817204301075}, 'DoS Slowloris': {'Accuracy': 0.5974621154802309, 'Precision': 1.0, 'Recall': 0.5974621154802309, 'F1-Score': 0.74801412777244}, 'DoS Slowhttptest': {'Accuracy': 0.12058023572076156, 'Precision': 1.0, 'Recall': 0.12058023572076156, 'F1-Score': 0.215210355987055}, 'Bot': {'Accuracy': 0.02617801047120419, 'Precision': 1.0, 'Recall': 0.02617801047120419, 'F1-Score': 0.05102040816326531}, 'Infiltration': {'Accuracy': 0.0070063694267515925, 'Precision': 1.0, 'Recall': 0.0070063694267515925, 'F1-Score': 0.013915243516761544}, 'PortScan': {'Accuracy': 0.0, 'Precision': 0.0, 'Recall': 0.0, 'F1-Score': 0.0}, 'Brute Force -Web': {'Accuracy': 0.2, 'Precision': 1.0, 'Recall': 0.2, 'F1-Score': 0.3333333333333333}, 'Brute Force -XSS': {'Accuracy': 0.2993504036326943, 'Precision': 1.0, 'Recall': 0.2993504036326943, 'F1-Score': 0.46076932411115157}, 'SQL Injection': {'Accuracy': 0.09098228663446055, 'Precision': 1.0, 'Recall': 0.09098228663446055, 'F1-Score': 0.16678966789667896}, 'SSH-Patator': {'Accuracy': 0.0, 'Precision': 0.0, 'Recall': 0.0, 'F1-Score': 0.0}, 'FTP-Patator': {'Accuracy': 0.0, 'Precision': 0.0, 'Recall': 0.0, 'F1-Score': 0.0}, 'Heartbleed': {'Accuracy': 0.0, 'Precision': 0.0, 'Recall': 0.0, 'F1-Score': 0.0}}\n",
    "\n",
    "for attack_type, metrics in performance_by_attack.items():\n",
    "    print(f\"\\nPerformance for attack type {attack_type}:\")\n",
    "    print(f\"Accuracy: {metrics['Accuracy']:.4f}, Precision: {metrics['Precision']:.4f}, Recall: {metrics['Recall']:.4f}, F1-Score: {metrics['F1-Score']:.4f}\");\")"
   ]
  }
 ],
 "metadata": {},
 "nbformat": 4,
 "nbformat_minor": 5
}

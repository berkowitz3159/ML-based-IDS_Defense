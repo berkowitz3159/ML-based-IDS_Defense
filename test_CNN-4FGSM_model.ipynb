{
 "cells": [
  {
   "cell_type": "markdown",
   "id": "438a27bf",
   "metadata": {},
   "source": [
    "# Model Evaluation Results"
   ]
  },
  {
   "cell_type": "markdown",
   "id": "d40552ad",
   "metadata": {},
   "source": [
    "## Overall Performance"
   ]
  },
  {
   "cell_type": "markdown",
   "id": "f94e0a4b",
   "metadata": {},
   "source": [
    "| Metric | Value |\n",
    "|--------|-------|\n",
    "| Adversarial Test Loss | 4.6760 |\n",
    "| Adversarial Accuracy | 79.2070 |\n",
    "| Adversarial Precision | 80.2532 |\n",
    "| Adversarial Recall | 79.2070 |\n",
    "| Adversarial F1-Score | 79.2631 |\n"
   ]
  },
  {
   "cell_type": "markdown",
   "id": "aecc75a6",
   "metadata": {},
   "source": [
    "## Performance by Attack Type"
   ]
  },
  {
   "cell_type": "markdown",
   "id": "d6d49679",
   "metadata": {},
   "source": [
    "| Attack Type | Accuracy | Precision | Recall | F1-Score |\n",
    "|-------------|----------|-----------|--------|----------|\n",
    "| Benign | 89.6551 | 100.0000 | 89.6551 | 94.5454 |\n",
    "| DDoS | 0.2591 | 100.0000 | 0.2591 | 0.5168 |\n",
    "| DoS Hulk | 10.5792 | 100.0000 | 10.5792 | 19.1341 |\n",
    "| DoS GoldenEye | 35.7664 | 100.0000 | 35.7664 | 52.6882 |\n",
    "| DoS Slowloris | 59.7462 | 100.0000 | 59.7462 | 74.8014 |\n",
    "| DoS Slowhttptest | 12.0580 | 100.0000 | 12.0580 | 21.5210 |\n",
    "| Bot | 2.6178 | 100.0000 | 2.6178 | 5.1020 |\n",
    "| Infiltration | 0.7006 | 100.0000 | 0.7006 | 1.3915 |\n",
    "| PortScan | 0.0000 | 0.0000 | 0.0000 | 0.0000 |\n",
    "| Brute Force -Web | 20.0000 | 100.0000 | 20.0000 | 33.3333 |\n",
    "| Brute Force -XSS | 29.9350 | 100.0000 | 29.9350 | 46.0769 |\n",
    "| SQL Injection | 9.0982 | 100.0000 | 9.0982 | 16.6790 |\n",
    "| SSH-Patator | 0.0000 | 0.0000 | 0.0000 | 0.0000 |\n",
    "| FTP-Patator | 0.0000 | 0.0000 | 0.0000 | 0.0000 |\n",
    "| Heartbleed | 0.0000 | 0.0000 | 0.0000 | 0.0000 |\n"
   ]
  }
 ],
 "metadata": {},
 "nbformat": 4,
 "nbformat_minor": 5
}

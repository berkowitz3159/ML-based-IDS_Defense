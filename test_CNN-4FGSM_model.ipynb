{
 "cells": [
  {
   "cell_type": "markdown",
   "id": "e27b70be",
   "metadata": {},
   "source": [
    "# Model Evaluation Results"
   ]
  },
  {
   "cell_type": "markdown",
   "id": "ead72c81",
   "metadata": {},
   "source": [
    "## Overall Performance"
   ]
  },
  {
   "cell_type": "markdown",
   "id": "5128f663",
   "metadata": {},
   "source": [
    "| Metric | Value |\n",
    "|--------|-------|\n",
    "| Adversarial Test Loss | 4.6760 |\n",
    "| Adversarial Accuracy | 79.2070 |\n",
    "| Adversarial Precision | 80.2532 |\n",
    "| Adversarial Recall | 79.2070 |\n",
    "| Adversarial F1-Score | 79.2631 |\n"
   ]
  },
  {
   "cell_type": "markdown",
   "id": "5e8e6465",
   "metadata": {},
   "source": [
    "## Performance by Attack Type"
   ]
  },
  {
   "cell_type": "markdown",
   "id": "4acd7634",
   "metadata": {},
   "source": [
    "| Attack Type | Accuracy | Precision | Recall | F1-Score |\n",
    "|-------------|----------|-----------|--------|----------|\n",
    "| Benign | 0.8966 | 1.0000 | 0.8966 | 0.9455 |\n",
    "| DDoS | 0.0026 | 1.0000 | 0.0026 | 0.0052 |\n",
    "| DoS Hulk | 0.1058 | 1.0000 | 0.1058 | 0.1913 |\n",
    "| DoS GoldenEye | 0.3577 | 1.0000 | 0.3577 | 0.5269 |\n",
    "| DoS Slowloris | 0.5975 | 1.0000 | 0.5975 | 0.7480 |\n",
    "| DoS Slowhttptest | 0.1206 | 1.0000 | 0.1206 | 0.2152 |\n",
    "| Bot | 0.0262 | 1.0000 | 0.0262 | 0.0510 |\n",
    "| Infiltration | 0.0070 | 1.0000 | 0.0070 | 0.0139 |\n",
    "| PortScan | 0.0000 | 0.0000 | 0.0000 | 0.0000 |\n",
    "| Brute Force -Web | 0.2000 | 1.0000 | 0.2000 | 0.3333 |\n",
    "| Brute Force -XSS | 0.2994 | 1.0000 | 0.2994 | 0.4608 |\n",
    "| SQL Injection | 0.0910 | 1.0000 | 0.0910 | 0.1668 |\n",
    "| SSH-Patator | 0.0000 | 0.0000 | 0.0000 | 0.0000 |\n",
    "| FTP-Patator | 0.0000 | 0.0000 | 0.0000 | 0.0000 |\n",
    "| Heartbleed | 0.0000 | 0.0000 | 0.0000 | 0.0000 |\n"
   ]
  }
 ],
 "metadata": {},
 "nbformat": 4,
 "nbformat_minor": 5
}

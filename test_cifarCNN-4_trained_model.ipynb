{
 "cells": [
  {
   "cell_type": "markdown",
   "id": "fb2a2673",
   "metadata": {},
   "source": [
    "# Model Evaluation Results"
   ]
  },
  {
   "cell_type": "code",
   "execution_count": null,
   "id": "589ca1da",
   "metadata": {},
   "outputs": [],
   "source": [
    "results = {'Test Loss': 0.047218885136490696, 'Accuracy': 98.51425803075095, 'Precision': 98.52267559819761, 'Recall': 98.51425803075095, 'F1-Score': 98.48327055315657, 'Classification Report': '              precision    recall  f1-score   support\\n\\n           0       0.99      0.99      0.99    454089\\n           1       0.97      0.31      0.47       386\\n           2       1.00      0.99      1.00     25588\\n           3       0.95      0.98      0.97      2055\\n           4       0.97      0.98      0.98     46259\\n           5       0.90      0.95      0.92      1103\\n           6       0.95      0.95      0.95      1146\\n           7       1.00      0.97      0.98      1570\\n           8       0.00      0.00      0.00         3\\n           9       0.50      0.20      0.29         5\\n          10       0.90      0.95      0.92     31712\\n          11       0.94      0.94      0.94      1242\\n          12       0.96      0.09      0.16       291\\n          13       0.00      0.00      0.00         5\\n          14       0.00      0.00      0.00       122\\n\\n    accuracy                           0.99    565576\\n   macro avg       0.74      0.62      0.64    565576\\nweighted avg       0.99      0.99      0.98    565576\\n'}"
   ]
  },
  {
   "cell_type": "code",
   "execution_count": null,
   "id": "6523849d",
   "metadata": {},
   "outputs": [],
   "source": [
    "print('Test Loss: {:.4f}'.format(results['Test Loss']))"
   ]
  },
  {
   "cell_type": "code",
   "execution_count": null,
   "id": "29d65782",
   "metadata": {},
   "outputs": [],
   "source": [
    "print('Accuracy: {:.2f}%'.format(results['Accuracy']))"
   ]
  },
  {
   "cell_type": "code",
   "execution_count": null,
   "id": "2bbca5a7",
   "metadata": {},
   "outputs": [],
   "source": [
    "print('Precision: {:.2f}%'.format(results['Precision']))"
   ]
  },
  {
   "cell_type": "code",
   "execution_count": null,
   "id": "0f0aedf2",
   "metadata": {},
   "outputs": [],
   "source": [
    "print('Recall: {:.2f}%'.format(results['Recall']))"
   ]
  },
  {
   "cell_type": "code",
   "execution_count": null,
   "id": "796022f8",
   "metadata": {},
   "outputs": [],
   "source": [
    "print('F1-Score: {:.2f}%'.format(results['F1-Score']))"
   ]
  },
  {
   "cell_type": "code",
   "execution_count": null,
   "id": "ef1c2c7a",
   "metadata": {},
   "outputs": [],
   "source": [
    "print('\\nDetailed classification report:\\n' + results['Classification Report'])"
   ]
  }
 ],
 "metadata": {},
 "nbformat": 4,
 "nbformat_minor": 5
}
